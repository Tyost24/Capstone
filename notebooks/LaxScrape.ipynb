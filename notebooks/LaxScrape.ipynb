{
 "cells": [
  {
   "cell_type": "code",
   "execution_count": null,
   "id": "eada4170",
   "metadata": {},
   "outputs": [],
   "source": [
    "import numpy as np\n",
    "import pandas as pd\n",
    "import matplotlib.pyplot as plt\n",
    "import seaborn as sns\n",
    "pd.options.display.max_columns = None\n",
    "import requests\n",
    "import lxml.html as lh\n",
    "from bs4 import BeautifulSoup as BS"
   ]
  },
  {
   "cell_type": "markdown",
   "id": "8ffd9821",
   "metadata": {},
   "source": [
    "## National Rankings Year: 2022"
   ]
  },
  {
   "cell_type": "code",
   "execution_count": null,
   "id": "bbbcb799",
   "metadata": {
    "scrolled": true
   },
   "outputs": [],
   "source": [
    "url = 'https://www.laxnumbers.com/ratings/service'\n",
    "response = requests.get(url, params={'y': 2022, 'v': 3000})\n",
    "data = response.json()\n",
    "df_2022 = pd.DataFrame.from_dict(data, orient='columns')\n",
    "df_2022[\"Year\"] = 2022\n",
    "df_2022.head()"
   ]
  },
  {
   "cell_type": "markdown",
   "id": "999ba3e3",
   "metadata": {},
   "source": [
    "## National Rankings Year: 2021"
   ]
  },
  {
   "cell_type": "code",
   "execution_count": null,
   "id": "8b6eb2be",
   "metadata": {
    "scrolled": true
   },
   "outputs": [],
   "source": [
    "url = 'https://www.laxnumbers.com/ratings/service'\n",
    "response = requests.get(url, params={'y': 2021, 'v': 3000})\n",
    "data = response.json()\n",
    "df_2021 = pd.DataFrame.from_dict(data, orient='columns')\n",
    "df_2021[\"Year\"] = 2021\n",
    "df_2021.head()"
   ]
  },
  {
   "cell_type": "markdown",
   "id": "2951ed41",
   "metadata": {},
   "source": [
    "## National Rankings Year: 2019"
   ]
  },
  {
   "cell_type": "code",
   "execution_count": null,
   "id": "b367a6ec",
   "metadata": {
    "scrolled": true
   },
   "outputs": [],
   "source": [
    "url = 'https://www.laxnumbers.com/ratings/service'\n",
    "response = requests.get(url, params={'y': 2019, 'v': 3000})\n",
    "data = response.json()\n",
    "df_2019 = pd.DataFrame.from_dict(data, orient='columns')\n",
    "df_2019[\"Year\"] = 2019\n",
    "df_2019.head()"
   ]
  },
  {
   "cell_type": "markdown",
   "id": "84e754f6",
   "metadata": {},
   "source": [
    "## National Rankings Year: 2018"
   ]
  },
  {
   "cell_type": "code",
   "execution_count": null,
   "id": "816da741",
   "metadata": {},
   "outputs": [],
   "source": [
    "url = 'https://www.laxnumbers.com/ratings/service'\n",
    "response = requests.get(url, params={'y': 2018, 'v': 3000})\n",
    "data = response.json()\n",
    "df_2018 = pd.DataFrame.from_dict(data, orient='columns')\n",
    "df_2018[\"Year\"] = 2018\n",
    "df_2018"
   ]
  },
  {
   "cell_type": "markdown",
   "id": "c3edd339",
   "metadata": {},
   "source": [
    "## National Rankings Year: 2017"
   ]
  },
  {
   "cell_type": "code",
   "execution_count": null,
   "id": "70463b2e",
   "metadata": {},
   "outputs": [],
   "source": [
    "url = 'https://www.laxnumbers.com/ratings/service'\n",
    "response = requests.get(url, params={'y': 2017, 'v': 3000})\n",
    "data = response.json()\n",
    "df_2017 = pd.DataFrame.from_dict(data, orient='columns')\n",
    "df_2017[\"Year\"] = 2017\n",
    "df_2017"
   ]
  },
  {
   "cell_type": "markdown",
   "id": "36ce0ae3",
   "metadata": {},
   "source": [
    "### concatinating all 5 years"
   ]
  },
  {
   "cell_type": "code",
   "execution_count": null,
   "id": "52200592",
   "metadata": {
    "scrolled": true
   },
   "outputs": [],
   "source": [
    "df_all = pd.concat([df_2017, df_2018, df_2019, df_2021, df_2022])\n",
    "df_all"
   ]
  },
  {
   "cell_type": "markdown",
   "id": "06d38ed8",
   "metadata": {},
   "source": [
    "## removed all the rows where scheduled rank = 0.00. This will removed teams that have no recoreded data per year."
   ]
  },
  {
   "cell_type": "code",
   "execution_count": null,
   "id": "8c5f699d",
   "metadata": {
    "scrolled": false
   },
   "outputs": [],
   "source": [
    "df_alls = df_all[df_all.sched != 0.00]\n",
    "df_alls"
   ]
  },
  {
   "cell_type": "markdown",
   "id": "a26d0345",
   "metadata": {},
   "source": [
    "## dropped columns for social media. Not relevant."
   ]
  },
  {
   "cell_type": "code",
   "execution_count": null,
   "id": "45e73992",
   "metadata": {},
   "outputs": [],
   "source": [
    "df_allf = df_alls.drop(['facebook', 'twitter', 'instagram'], axis=1)"
   ]
  },
  {
   "cell_type": "code",
   "execution_count": null,
   "id": "7bdaf84d",
   "metadata": {},
   "outputs": [],
   "source": [
    "df_allf"
   ]
  },
  {
   "cell_type": "code",
   "execution_count": null,
   "id": "02e2430c",
   "metadata": {},
   "outputs": [],
   "source": [
    "df_allf.to_excel(\"LRY.xlsx\",\n",
    "             sheet_name='National Ranks') "
   ]
  },
  {
   "cell_type": "markdown",
   "id": "75eaade4",
   "metadata": {},
   "source": [
    "## exported to excel and put in data folder"
   ]
  },
  {
   "cell_type": "markdown",
   "id": "d3ab7200",
   "metadata": {},
   "source": [
    "## Cleaning excel\n"
   ]
  },
  {
   "cell_type": "code",
   "execution_count": null,
   "id": "d54e379f",
   "metadata": {},
   "outputs": [],
   "source": []
  }
 ],
 "metadata": {
  "kernelspec": {
   "display_name": "Python 3 (ipykernel)",
   "language": "python",
   "name": "python3"
  },
  "language_info": {
   "codemirror_mode": {
    "name": "ipython",
    "version": 3
   },
   "file_extension": ".py",
   "mimetype": "text/x-python",
   "name": "python",
   "nbconvert_exporter": "python",
   "pygments_lexer": "ipython3",
   "version": "3.9.7"
  }
 },
 "nbformat": 4,
 "nbformat_minor": 5
}
