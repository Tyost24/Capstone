{
 "cells": [
  {
   "cell_type": "code",
   "execution_count": null,
   "id": "eada4170",
   "metadata": {},
   "outputs": [],
   "source": [
    "import numpy as np\n",
    "import pandas as pd\n",
    "import matplotlib.pyplot as plt\n",
    "import seaborn as sns\n",
    "pd.options.display.max_columns = None\n",
    "import requests\n",
    "import lxml.html as lh"
   ]
  },
  {
   "cell_type": "code",
   "execution_count": null,
   "id": "c7be1b01",
   "metadata": {},
   "outputs": [],
   "source": [
    "from bs4 import BeautifulSoup as BS\n",
    "lax = BS(response.text)"
   ]
  },
  {
   "cell_type": "markdown",
   "id": "a3dc72c0",
   "metadata": {},
   "source": [
    "## National Rankings Year: 2022"
   ]
  },
  {
   "cell_type": "code",
   "execution_count": null,
   "id": "bbbcb799",
   "metadata": {
    "scrolled": true
   },
   "outputs": [],
   "source": [
    "url = 'https://www.laxnumbers.com/ratings/service'\n",
    "response = requests.get(url, params={'y': 2022, 'v': 3000})\n",
    "data = response.json()\n",
    "df_2022 = pd.DataFrame.from_dict(data, orient='columns')\n",
    "df_2022.head()"
   ]
  },
  {
   "cell_type": "markdown",
   "id": "23589dec",
   "metadata": {},
   "source": [
    "## National Rankings Year: 2021"
   ]
  },
  {
   "cell_type": "code",
   "execution_count": null,
   "id": "79b521aa",
   "metadata": {
    "scrolled": true
   },
   "outputs": [],
   "source": [
    "url = 'https://www.laxnumbers.com/ratings/service'\n",
    "response = requests.get(url, params={'y': 2021, 'v': 3000})\n",
    "data = response.json()\n",
    "df_2021 = pd.DataFrame.from_dict(data, orient='columns')\n",
    "df_2021.head()"
   ]
  },
  {
   "cell_type": "markdown",
   "id": "9c5a34de",
   "metadata": {},
   "source": [
    "## National Rankings Year: 2019"
   ]
  },
  {
   "cell_type": "code",
   "execution_count": null,
   "id": "6e8cb67d",
   "metadata": {
    "scrolled": true
   },
   "outputs": [],
   "source": [
    "url = 'https://www.laxnumbers.com/ratings/service'\n",
    "response = requests.get(url, params={'y': 2019, 'v': 3000})\n",
    "data = response.json()\n",
    "df_2019 = pd.DataFrame.from_dict(data, orient='columns')\n",
    "df_2019.head()"
   ]
  },
  {
   "cell_type": "markdown",
   "id": "3735ef7b",
   "metadata": {},
   "source": [
    "## National Rankings Year: 2018"
   ]
  },
  {
   "cell_type": "code",
   "execution_count": null,
   "id": "8916c59c",
   "metadata": {},
   "outputs": [],
   "source": [
    "url = 'https://www.laxnumbers.com/ratings/service'\n",
    "response = requests.get(url, params={'y': 2018, 'v': 3000})\n",
    "data = response.json()\n",
    "df_2018 = pd.DataFrame.from_dict(data, orient='columns')\n",
    "df_2018.head()"
   ]
  },
  {
   "cell_type": "markdown",
   "id": "81a0f282",
   "metadata": {},
   "source": [
    "## National Rankings Year: 2017"
   ]
  },
  {
   "cell_type": "code",
   "execution_count": null,
   "id": "935bfcc7",
   "metadata": {},
   "outputs": [],
   "source": [
    "url = 'https://www.laxnumbers.com/ratings/service'\n",
    "response = requests.get(url, params={'y': 2017, 'v': 3000})\n",
    "data = response.json()\n",
    "df_2017 = pd.DataFrame.from_dict(data, orient='columns')\n",
    "df_2017.head()"
   ]
  },
  {
   "cell_type": "markdown",
   "id": "6097907c",
   "metadata": {},
   "source": [
    "### if i wanted per year"
   ]
  },
  {
   "cell_type": "code",
   "execution_count": null,
   "id": "e4125b1f",
   "metadata": {},
   "outputs": [],
   "source": [
    "df_all = pd.concat([df_2019, df_2020, df_2021, df_2022])"
   ]
  },
  {
   "cell_type": "markdown",
   "id": "bc3c3995",
   "metadata": {},
   "source": [
    "### if need to add year collumn before contcating!"
   ]
  },
  {
   "cell_type": "code",
   "execution_count": null,
   "id": "f200263a",
   "metadata": {},
   "outputs": [],
   "source": [
    "df_2022[\"Year\"] = 2022"
   ]
  }
 ],
 "metadata": {
  "kernelspec": {
   "display_name": "Python 3 (ipykernel)",
   "language": "python",
   "name": "python3"
  },
  "language_info": {
   "codemirror_mode": {
    "name": "ipython",
    "version": 3
   },
   "file_extension": ".py",
   "mimetype": "text/x-python",
   "name": "python",
   "nbconvert_exporter": "python",
   "pygments_lexer": "ipython3",
   "version": "3.9.7"
  }
 },
 "nbformat": 4,
 "nbformat_minor": 5
}
