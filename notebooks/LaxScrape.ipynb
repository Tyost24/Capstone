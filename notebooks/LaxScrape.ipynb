{
 "cells": [
  {
   "cell_type": "code",
   "execution_count": null,
   "id": "eada4170",
   "metadata": {},
   "outputs": [],
   "source": [
    "import numpy as np\n",
    "import pandas as pd\n",
    "import matplotlib.pyplot as plt\n",
    "import seaborn as sns\n",
    "pd.options.display.max_columns = None\n",
    "import requests\n",
    "import lxml.html as lh\n",
    "from bs4 import BeautifulSoup as BS"
   ]
  },
  {
   "cell_type": "markdown",
   "id": "7f30d0c6",
   "metadata": {},
   "source": [
    "## National Rankings Year: 2022"
   ]
  },
  {
   "cell_type": "code",
   "execution_count": null,
   "id": "bbbcb799",
   "metadata": {
    "scrolled": true
   },
   "outputs": [],
   "source": [
    "url = 'https://www.laxnumbers.com/ratings/service'\n",
    "response = requests.get(url, params={'y': 2022, 'v': 3000})\n",
    "data = response.json()\n",
    "df_2022 = pd.DataFrame.from_dict(data, orient='columns')\n",
    "df_2022[\"Year\"] = 2022\n",
    "df_2022.head()"
   ]
  },
  {
   "cell_type": "markdown",
   "id": "646398f7",
   "metadata": {},
   "source": [
    "## National Rankings Year: 2021"
   ]
  },
  {
   "cell_type": "code",
   "execution_count": null,
   "id": "432be10b",
   "metadata": {
    "scrolled": true
   },
   "outputs": [],
   "source": [
    "url = 'https://www.laxnumbers.com/ratings/service'\n",
    "response = requests.get(url, params={'y': 2021, 'v': 3000})\n",
    "data = response.json()\n",
    "df_2021 = pd.DataFrame.from_dict(data, orient='columns')\n",
    "df_2021[\"Year\"] = 2021\n",
    "df_2021.head()"
   ]
  },
  {
   "cell_type": "markdown",
   "id": "cbda7045",
   "metadata": {},
   "source": [
    "## National Rankings Year: 2019"
   ]
  },
  {
   "cell_type": "code",
   "execution_count": null,
   "id": "e73dc2be",
   "metadata": {
    "scrolled": true
   },
   "outputs": [],
   "source": [
    "url = 'https://www.laxnumbers.com/ratings/service'\n",
    "response = requests.get(url, params={'y': 2019, 'v': 3000})\n",
    "data = response.json()\n",
    "df_2019 = pd.DataFrame.from_dict(data, orient='columns')\n",
    "df_2019[\"Year\"] = 2019\n",
    "df_2019.head()"
   ]
  },
  {
   "cell_type": "markdown",
   "id": "ff3df8fe",
   "metadata": {},
   "source": [
    "## National Rankings Year: 2018"
   ]
  },
  {
   "cell_type": "code",
   "execution_count": null,
   "id": "43adb71c",
   "metadata": {},
   "outputs": [],
   "source": [
    "url = 'https://www.laxnumbers.com/ratings/service'\n",
    "response = requests.get(url, params={'y': 2018, 'v': 3000})\n",
    "data = response.json()\n",
    "df_2018 = pd.DataFrame.from_dict(data, orient='columns')\n",
    "df_2018[\"Year\"] = 2018\n",
    "df_2018"
   ]
  },
  {
   "cell_type": "markdown",
   "id": "d2099c32",
   "metadata": {},
   "source": [
    "## National Rankings Year: 2017"
   ]
  },
  {
   "cell_type": "code",
   "execution_count": null,
   "id": "9ab0e625",
   "metadata": {},
   "outputs": [],
   "source": [
    "url = 'https://www.laxnumbers.com/ratings/service'\n",
    "response = requests.get(url, params={'y': 2017, 'v': 3000})\n",
    "data = response.json()\n",
    "df_2017 = pd.DataFrame.from_dict(data, orient='columns')\n",
    "df_2017[\"Year\"] = 2017\n",
    "df_2017"
   ]
  },
  {
   "cell_type": "markdown",
   "id": "b18986d0",
   "metadata": {},
   "source": [
    "### concatinating all 5 years"
   ]
  },
  {
   "cell_type": "code",
   "execution_count": null,
   "id": "aec9cab2",
   "metadata": {
    "scrolled": true
   },
   "outputs": [],
   "source": [
    "df_all = pd.concat([df_2017, df_2018, df_2019, df_2021, df_2022])\n",
    "df_all"
   ]
  },
  {
   "cell_type": "markdown",
   "id": "8771694f",
   "metadata": {},
   "source": [
    "## removed all the rows where scheduled rank = 0.00. This will removed teams that have no recoreded data per year."
   ]
  },
  {
   "cell_type": "code",
   "execution_count": null,
   "id": "1e49be08",
   "metadata": {
    "scrolled": false
   },
   "outputs": [],
   "source": [
    "df_alls = df_all[df_all.sched != 0.00]\n",
    "df_alls"
   ]
  },
  {
   "cell_type": "markdown",
   "id": "5fe9edd0",
   "metadata": {},
   "source": [
    "## dropped columns for social media. Not relevant."
   ]
  },
  {
   "cell_type": "code",
   "execution_count": null,
   "id": "e008e0e8",
   "metadata": {},
   "outputs": [],
   "source": [
    "df_allf = df_alls.drop(['facebook', 'twitter', 'instagram'], axis=1)"
   ]
  },
  {
   "cell_type": "code",
   "execution_count": null,
   "id": "77bcc821",
   "metadata": {},
   "outputs": [],
   "source": [
    "df_allf"
   ]
  },
  {
   "cell_type": "code",
   "execution_count": null,
   "id": "a4af2bc2",
   "metadata": {},
   "outputs": [],
   "source": [
    "df_allf.to_excel(\"LRY.xlsx\",\n",
    "             sheet_name='National Ranks') "
   ]
  },
  {
   "cell_type": "markdown",
   "id": "5e39c9f5",
   "metadata": {},
   "source": [
    "## exported to excel and put in data folder"
   ]
  },
  {
   "cell_type": "code",
   "execution_count": null,
   "id": "ef07ad55",
   "metadata": {},
   "outputs": [],
   "source": []
  }
 ],
 "metadata": {
  "kernelspec": {
   "display_name": "Python 3 (ipykernel)",
   "language": "python",
   "name": "python3"
  },
  "language_info": {
   "codemirror_mode": {
    "name": "ipython",
    "version": 3
   },
   "file_extension": ".py",
   "mimetype": "text/x-python",
   "name": "python",
   "nbconvert_exporter": "python",
   "pygments_lexer": "ipython3",
   "version": "3.9.7"
  }
 },
 "nbformat": 4,
 "nbformat_minor": 5
}
